{
 "cells": [
  {
   "cell_type": "code",
   "execution_count": 50,
   "id": "9086adef",
   "metadata": {
    "scrolled": true
   },
   "outputs": [
    {
     "data": {
      "text/html": [
       "<div>\n",
       "<style scoped>\n",
       "    .dataframe tbody tr th:only-of-type {\n",
       "        vertical-align: middle;\n",
       "    }\n",
       "\n",
       "    .dataframe tbody tr th {\n",
       "        vertical-align: top;\n",
       "    }\n",
       "\n",
       "    .dataframe thead th {\n",
       "        text-align: right;\n",
       "    }\n",
       "</style>\n",
       "<table border=\"1\" class=\"dataframe\">\n",
       "  <thead>\n",
       "    <tr style=\"text-align: right;\">\n",
       "      <th></th>\n",
       "      <th>Critic</th>\n",
       "      <th>Give Me Five</th>\n",
       "      <th>MOON MAN</th>\n",
       "      <th>Warrious of Future</th>\n",
       "      <th>Minions</th>\n",
       "      <th>Return to Dust</th>\n",
       "    </tr>\n",
       "  </thead>\n",
       "  <tbody>\n",
       "    <tr>\n",
       "      <th>0</th>\n",
       "      <td>Ao</td>\n",
       "      <td>3.0</td>\n",
       "      <td>3.0</td>\n",
       "      <td>1.0</td>\n",
       "      <td>5.0</td>\n",
       "      <td>5.0</td>\n",
       "    </tr>\n",
       "    <tr>\n",
       "      <th>1</th>\n",
       "      <td>Han</td>\n",
       "      <td>3.0</td>\n",
       "      <td>4.0</td>\n",
       "      <td>NaN</td>\n",
       "      <td>5.0</td>\n",
       "      <td>3.0</td>\n",
       "    </tr>\n",
       "    <tr>\n",
       "      <th>2</th>\n",
       "      <td>Yu</td>\n",
       "      <td>2.0</td>\n",
       "      <td>4.0</td>\n",
       "      <td>3.0</td>\n",
       "      <td>NaN</td>\n",
       "      <td>4.0</td>\n",
       "    </tr>\n",
       "    <tr>\n",
       "      <th>3</th>\n",
       "      <td>Bo</td>\n",
       "      <td>1.0</td>\n",
       "      <td>NaN</td>\n",
       "      <td>3.0</td>\n",
       "      <td>3.0</td>\n",
       "      <td>NaN</td>\n",
       "    </tr>\n",
       "    <tr>\n",
       "      <th>4</th>\n",
       "      <td>Miao</td>\n",
       "      <td>4.0</td>\n",
       "      <td>2.0</td>\n",
       "      <td>NaN</td>\n",
       "      <td>3.0</td>\n",
       "      <td>5.0</td>\n",
       "    </tr>\n",
       "    <tr>\n",
       "      <th>5</th>\n",
       "      <td>Ye</td>\n",
       "      <td>2.0</td>\n",
       "      <td>NaN</td>\n",
       "      <td>3.0</td>\n",
       "      <td>5.0</td>\n",
       "      <td>NaN</td>\n",
       "    </tr>\n",
       "    <tr>\n",
       "      <th>6</th>\n",
       "      <td>Fei</td>\n",
       "      <td>NaN</td>\n",
       "      <td>2.0</td>\n",
       "      <td>2.0</td>\n",
       "      <td>4.0</td>\n",
       "      <td>4.0</td>\n",
       "    </tr>\n",
       "  </tbody>\n",
       "</table>\n",
       "</div>"
      ],
      "text/plain": [
       "  Critic  Give Me Five  MOON MAN  Warrious of Future  Minions  Return to Dust\n",
       "0     Ao           3.0       3.0                 1.0      5.0             5.0\n",
       "1    Han           3.0       4.0                 NaN      5.0             3.0\n",
       "2     Yu           2.0       4.0                 3.0      NaN             4.0\n",
       "3     Bo           1.0       NaN                 3.0      3.0             NaN\n",
       "4   Miao           4.0       2.0                 NaN      3.0             5.0\n",
       "5     Ye           2.0       NaN                 3.0      5.0             NaN\n",
       "6    Fei           NaN       2.0                 2.0      4.0             4.0"
      ]
     },
     "execution_count": 50,
     "metadata": {},
     "output_type": "execute_result"
    }
   ],
   "source": [
    "import pandas as pd\n",
    "import numpy as np\n",
    "from numpy import count_nonzero\n",
    "\n",
    "df = pd.read_csv('Global_Baseline.csv')\n",
    "df"
   ]
  },
  {
   "cell_type": "code",
   "execution_count": 51,
   "id": "314d275a",
   "metadata": {},
   "outputs": [],
   "source": [
    "df_index = ['Give Me Five','MOON MAN','Warrious of Future','Minions','Return to Dust']"
   ]
  },
  {
   "cell_type": "code",
   "execution_count": 52,
   "id": "26dc65b5",
   "metadata": {},
   "outputs": [
    {
     "data": {
      "text/plain": [
       "array([[3., 3., 2., 1., 4., 2., 0.],\n",
       "       [3., 4., 4., 0., 2., 0., 2.],\n",
       "       [1., 0., 3., 3., 0., 3., 2.],\n",
       "       [5., 5., 0., 3., 3., 5., 4.],\n",
       "       [5., 3., 4., 0., 5., 0., 4.]])"
      ]
     },
     "execution_count": 52,
     "metadata": {},
     "output_type": "execute_result"
    }
   ],
   "source": [
    "df.fillna(0, inplace=True)\n",
    "df.drop('Critic',axis = 1, inplace = True)\n",
    "df = df.T\n",
    "df_1 = df.values\n",
    "df_1"
   ]
  },
  {
   "cell_type": "code",
   "execution_count": 53,
   "id": "57f7f68b",
   "metadata": {},
   "outputs": [
    {
     "data": {
      "text/html": [
       "<div>\n",
       "<style scoped>\n",
       "    .dataframe tbody tr th:only-of-type {\n",
       "        vertical-align: middle;\n",
       "    }\n",
       "\n",
       "    .dataframe tbody tr th {\n",
       "        vertical-align: top;\n",
       "    }\n",
       "\n",
       "    .dataframe thead th {\n",
       "        text-align: right;\n",
       "    }\n",
       "</style>\n",
       "<table border=\"1\" class=\"dataframe\">\n",
       "  <thead>\n",
       "    <tr style=\"text-align: right;\">\n",
       "      <th></th>\n",
       "      <th>0</th>\n",
       "      <th>1</th>\n",
       "      <th>2</th>\n",
       "      <th>3</th>\n",
       "      <th>4</th>\n",
       "      <th>5</th>\n",
       "      <th>6</th>\n",
       "    </tr>\n",
       "  </thead>\n",
       "  <tbody>\n",
       "    <tr>\n",
       "      <th>Give Me Five</th>\n",
       "      <td>3.0</td>\n",
       "      <td>3.0</td>\n",
       "      <td>2.0</td>\n",
       "      <td>1.0</td>\n",
       "      <td>4.0</td>\n",
       "      <td>2.0</td>\n",
       "      <td>0.0</td>\n",
       "    </tr>\n",
       "    <tr>\n",
       "      <th>MOON MAN</th>\n",
       "      <td>3.0</td>\n",
       "      <td>4.0</td>\n",
       "      <td>4.0</td>\n",
       "      <td>0.0</td>\n",
       "      <td>2.0</td>\n",
       "      <td>0.0</td>\n",
       "      <td>2.0</td>\n",
       "    </tr>\n",
       "    <tr>\n",
       "      <th>Warrious of Future</th>\n",
       "      <td>1.0</td>\n",
       "      <td>0.0</td>\n",
       "      <td>3.0</td>\n",
       "      <td>3.0</td>\n",
       "      <td>0.0</td>\n",
       "      <td>3.0</td>\n",
       "      <td>2.0</td>\n",
       "    </tr>\n",
       "    <tr>\n",
       "      <th>Minions</th>\n",
       "      <td>5.0</td>\n",
       "      <td>5.0</td>\n",
       "      <td>0.0</td>\n",
       "      <td>3.0</td>\n",
       "      <td>3.0</td>\n",
       "      <td>5.0</td>\n",
       "      <td>4.0</td>\n",
       "    </tr>\n",
       "    <tr>\n",
       "      <th>Return to Dust</th>\n",
       "      <td>5.0</td>\n",
       "      <td>3.0</td>\n",
       "      <td>4.0</td>\n",
       "      <td>0.0</td>\n",
       "      <td>5.0</td>\n",
       "      <td>0.0</td>\n",
       "      <td>4.0</td>\n",
       "    </tr>\n",
       "  </tbody>\n",
       "</table>\n",
       "</div>"
      ],
      "text/plain": [
       "                      0    1    2    3    4    5    6\n",
       "Give Me Five        3.0  3.0  2.0  1.0  4.0  2.0  0.0\n",
       "MOON MAN            3.0  4.0  4.0  0.0  2.0  0.0  2.0\n",
       "Warrious of Future  1.0  0.0  3.0  3.0  0.0  3.0  2.0\n",
       "Minions             5.0  5.0  0.0  3.0  3.0  5.0  4.0\n",
       "Return to Dust      5.0  3.0  4.0  0.0  5.0  0.0  4.0"
      ]
     },
     "execution_count": 53,
     "metadata": {},
     "output_type": "execute_result"
    }
   ],
   "source": [
    "df"
   ]
  },
  {
   "cell_type": "code",
   "execution_count": 33,
   "id": "d0156d11",
   "metadata": {},
   "outputs": [],
   "source": [
    "from sklearn.neighbors import NearestNeighbors"
   ]
  },
  {
   "cell_type": "code",
   "execution_count": 34,
   "id": "3d7cc115",
   "metadata": {},
   "outputs": [],
   "source": [
    "knn = NearestNeighbors(metric='cosine', algorithm='brute')\n",
    "knn.fit(df_1)\n",
    "distances, indices = knn.kneighbors(df_1, n_neighbors=3)"
   ]
  },
  {
   "cell_type": "code",
   "execution_count": 35,
   "id": "e1a7b966",
   "metadata": {},
   "outputs": [
    {
     "data": {
      "text/plain": [
       "array([[0, 3, 4],\n",
       "       [1, 4, 2],\n",
       "       [2, 1, 4],\n",
       "       [3, 0, 2],\n",
       "       [4, 1, 0]], dtype=int64)"
      ]
     },
     "execution_count": 35,
     "metadata": {},
     "output_type": "execute_result"
    }
   ],
   "source": [
    "indices"
   ]
  },
  {
   "cell_type": "code",
   "execution_count": 36,
   "id": "58144c05",
   "metadata": {},
   "outputs": [
    {
     "data": {
      "text/plain": [
       "array([[0.        , 0.2487292 , 0.38108813],\n",
       "       [0.        , 0.0580406 , 0.31034369],\n",
       "       [0.        , 0.31034369, 0.42433588],\n",
       "       [0.        , 0.2487292 , 0.68148897],\n",
       "       [0.        , 0.0580406 , 0.38108813]])"
      ]
     },
     "execution_count": 36,
     "metadata": {},
     "output_type": "execute_result"
    }
   ],
   "source": [
    "distances"
   ]
  },
  {
   "cell_type": "markdown",
   "id": "0d4a6f5f",
   "metadata": {},
   "source": [
    "### Example: Predict the rating for Minions by Yu "
   ]
  },
  {
   "cell_type": "code",
   "execution_count": 61,
   "id": "e9236cc7",
   "metadata": {},
   "outputs": [
    {
     "name": "stdout",
     "output_type": "stream",
     "text": [
      "The Nearest Movies to Minions: [0, 2]\n",
      "The Distance from Minions: [0.2487292003492918, 0.6814889713646969]\n"
     ]
    }
   ],
   "source": [
    "index_for_movie = df.index.tolist().index('Minions') # it returns 0\n",
    "sim_movies = indices[index_for_movie].tolist() # make list for similar movies\n",
    "movie_distances = distances[index_for_movie].tolist() # the list for distances of similar movies\n",
    "id_movie = sim_movies.index(index_for_movie) # get the position of the movie itself in indices and distances\n",
    "sim_movies.remove(index_for_movie) # remove the movie itself in indices\n",
    "movie_distances.pop(id_movie) # remove the movie itself in distances\n",
    "\n",
    "print('The Nearest Movies to Minions:', sim_movies)\n",
    "print('The Distance from Minions:', movie_distances)"
   ]
  },
  {
   "cell_type": "code",
   "execution_count": 62,
   "id": "2dc8d8bb",
   "metadata": {},
   "outputs": [
    {
     "name": "stdout",
     "output_type": "stream",
     "text": [
      "2.2977345662578856\n"
     ]
    }
   ],
   "source": [
    "movie_similarity = [-x+1 for x in movie_distances] # inverse distance \n",
    "\n",
    "predicted_rating = (movie_similarity[0]*df.iloc[sim_movies[0],2] + movie_similarity[1]*df.iloc[sim_movies[1],2])/sum(movie_similarity)\n",
    "print(predicted_rating)"
   ]
  },
  {
   "cell_type": "markdown",
   "id": "f108f6c2",
   "metadata": {},
   "source": [
    "### The predict score is 2.2977"
   ]
  },
  {
   "cell_type": "code",
   "execution_count": 66,
   "id": "25268369",
   "metadata": {},
   "outputs": [
    {
     "name": "stdout",
     "output_type": "stream",
     "text": [
      "Requirement already satisfied: lightfm in d:\\anaconda\\lib\\site-packages (1.16)\n",
      "Requirement already satisfied: requests in d:\\anaconda\\lib\\site-packages (from lightfm) (2.27.1)\n",
      "Requirement already satisfied: scipy>=0.17.0 in d:\\anaconda\\lib\\site-packages (from lightfm) (1.7.3)\n",
      "Requirement already satisfied: scikit-learn in d:\\anaconda\\lib\\site-packages (from lightfm) (1.0.2)\n",
      "Requirement already satisfied: numpy in d:\\anaconda\\lib\\site-packages (from lightfm) (1.21.5)\n",
      "Requirement already satisfied: charset-normalizer~=2.0.0 in d:\\anaconda\\lib\\site-packages (from requests->lightfm) (2.0.4)\n",
      "Requirement already satisfied: idna<4,>=2.5 in d:\\anaconda\\lib\\site-packages (from requests->lightfm) (3.3)\n",
      "Requirement already satisfied: certifi>=2017.4.17 in d:\\anaconda\\lib\\site-packages (from requests->lightfm) (2021.10.8)\n",
      "Requirement already satisfied: urllib3<1.27,>=1.21.1 in d:\\anaconda\\lib\\site-packages (from requests->lightfm) (1.26.9)\n",
      "Requirement already satisfied: threadpoolctl>=2.0.0 in d:\\anaconda\\lib\\site-packages (from scikit-learn->lightfm) (2.2.0)\n",
      "Requirement already satisfied: joblib>=0.11 in d:\\anaconda\\lib\\site-packages (from scikit-learn->lightfm) (1.1.0)\n",
      "Note: you may need to restart the kernel to use updated packages.\n"
     ]
    }
   ],
   "source": [
    "pip install lightfm"
   ]
  },
  {
   "cell_type": "code",
   "execution_count": 73,
   "id": "49d424ab",
   "metadata": {},
   "outputs": [],
   "source": [
    "from lightfm import LightFM\n",
    "from scipy.sparse import csr_matrix"
   ]
  },
  {
   "cell_type": "code",
   "execution_count": 78,
   "id": "131a2fb6",
   "metadata": {},
   "outputs": [
    {
     "data": {
      "text/plain": [
       "<5x7 sparse matrix of type '<class 'numpy.float64'>'\n",
       "\twith 27 stored elements in Compressed Sparse Row format>"
      ]
     },
     "execution_count": 78,
     "metadata": {},
     "output_type": "execute_result"
    }
   ],
   "source": [
    "data = csr_matrix(df)\n",
    "data"
   ]
  },
  {
   "cell_type": "code",
   "execution_count": 75,
   "id": "2e2e5bae",
   "metadata": {},
   "outputs": [],
   "source": [
    "model = LightFM()"
   ]
  },
  {
   "cell_type": "code",
   "execution_count": 77,
   "id": "057d92e8",
   "metadata": {},
   "outputs": [
    {
     "data": {
      "text/plain": [
       "<lightfm.lightfm.LightFM at 0x1e947ae7850>"
      ]
     },
     "execution_count": 77,
     "metadata": {},
     "output_type": "execute_result"
    }
   ],
   "source": [
    "model.fit(data)"
   ]
  },
  {
   "cell_type": "code",
   "execution_count": 81,
   "id": "6838d5ac",
   "metadata": {},
   "outputs": [
    {
     "data": {
      "text/plain": [
       "<5x7 sparse matrix of type '<class 'numpy.float32'>'\n",
       "\twith 27 stored elements in Compressed Sparse Row format>"
      ]
     },
     "execution_count": 81,
     "metadata": {},
     "output_type": "execute_result"
    }
   ],
   "source": [
    "model.get_user_representations()\n",
    "\n",
    "model.get_item_representations()\n",
    "\n",
    "model.predict_rank(data)\n"
   ]
  },
  {
   "cell_type": "code",
   "execution_count": null,
   "id": "d7760d3f",
   "metadata": {},
   "outputs": [],
   "source": []
  }
 ],
 "metadata": {
  "kernelspec": {
   "display_name": "Python 3 (ipykernel)",
   "language": "python",
   "name": "python3"
  },
  "language_info": {
   "codemirror_mode": {
    "name": "ipython",
    "version": 3
   },
   "file_extension": ".py",
   "mimetype": "text/x-python",
   "name": "python",
   "nbconvert_exporter": "python",
   "pygments_lexer": "ipython3",
   "version": "3.9.12"
  }
 },
 "nbformat": 4,
 "nbformat_minor": 5
}
